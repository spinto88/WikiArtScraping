{
 "cells": [
  {
   "cell_type": "code",
   "execution_count": 13,
   "metadata": {},
   "outputs": [],
   "source": [
    "import dryscrape\n",
    "import shutil\n",
    "import requests\n",
    "    \n",
    "img_page = 'https://www.wikiart.org/en/albert-joseph-moore/a-reverie-1892'\n",
    "\n",
    "sess = dryscrape.Session()\n",
    "sess.visit(img_page)\n",
    "    \n",
    "a = sess.xpath('//*[@class = \"ms-zoom-cursor\"]')[0]    \n",
    "   \n",
    "img_src = a['src']\n",
    "img_title = a['title']\n",
    "\n",
    "response = requests.get(img_src, stream=True)\n",
    "with open(u'{}.jpg'.format(img_title), 'wb') as out_file:\n",
    "    shutil.copyfileobj(response.raw, out_file)\n",
    "del response"
   ]
  },
  {
   "cell_type": "code",
   "execution_count": 14,
   "metadata": {},
   "outputs": [],
   "source": [
    "b = sess.xpath('//article')[0]"
   ]
  },
  {
   "cell_type": "code",
   "execution_count": 27,
   "metadata": {},
   "outputs": [],
   "source": [
    "info = b.text().split('\\n')\n",
    "\n",
    "artw_info = {}\n",
    "artw_info['artwork name'] = info[0]\n",
    "artw_info['author'] = info[1]\n",
    "artw_info['date'] = filter(lambda x: 'Date' in x, info)[0].split(': ')[1]\n",
    "artw_info['style'] = filter(lambda x: 'Style' in x, info)[0].split(': ')[1]\n",
    "artw_info['genre'] = filter(lambda x: 'Genre' in x, info)[0].split(': ')[1]\n",
    "artw_info['media'] = filter(lambda x: 'Media' in x, info)[0].split(': ')[1]\n",
    "artw_info['dimensions'] = filter(lambda x: 'Dimensions:' in x, info)[0].split(': ')[1]\n",
    "\n",
    "\n"
   ]
  },
  {
   "cell_type": "code",
   "execution_count": 28,
   "metadata": {},
   "outputs": [
    {
     "data": {
      "text/plain": [
       "{'artwork name': u'A Reverie',\n",
       " 'author': u'Albert Joseph Moore',\n",
       " 'date': u'1892; United Kingdom\\xa0',\n",
       " 'dimensions': u'74.8 x 116.7 cm',\n",
       " 'genre': u'portrait',\n",
       " 'media': u'oil, canvas',\n",
       " 'style': u'Academicism'}"
      ]
     },
     "execution_count": 28,
     "metadata": {},
     "output_type": "execute_result"
    }
   ],
   "source": [
    "artw_info"
   ]
  },
  {
   "cell_type": "code",
   "execution_count": null,
   "metadata": {},
   "outputs": [],
   "source": []
  }
 ],
 "metadata": {
  "kernelspec": {
   "display_name": "Python 2",
   "language": "python",
   "name": "python2"
  },
  "language_info": {
   "codemirror_mode": {
    "name": "ipython",
    "version": 2
   },
   "file_extension": ".py",
   "mimetype": "text/x-python",
   "name": "python",
   "nbconvert_exporter": "python",
   "pygments_lexer": "ipython2",
   "version": "2.7.12"
  }
 },
 "nbformat": 4,
 "nbformat_minor": 2
}
