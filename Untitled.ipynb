{
 "cells": [
  {
   "cell_type": "code",
   "execution_count": 1,
   "metadata": {},
   "outputs": [
    {
     "ename": "SyntaxError",
     "evalue": "EOL while scanning string literal (<ipython-input-1-ef31cac850bb>, line 1)",
     "output_type": "error",
     "traceback": [
      "\u001b[0;36m  File \u001b[0;32m\"<ipython-input-1-ef31cac850bb>\"\u001b[0;36m, line \u001b[0;32m1\u001b[0m\n\u001b[0;31m    text = '\u001b[0m\n\u001b[0m           ^\u001b[0m\n\u001b[0;31mSyntaxError\u001b[0m\u001b[0;31m:\u001b[0m EOL while scanning string literal\n"
     ]
    }
   ],
   "source": [
    "text = '\n",
    "                Hanns Schwarzensky\n",
    "                \n",
    "                    Jan Cox\n",
    "                    \n",
    "                        \n",
    "                \n",
    "                \n",
    "                    \n",
    "                        \n",
    "        <div class=\\\"loginFormContainer geo-notes-popup\\\">\n",
    "            <div class=\\\"modal-header\\\">\n",
    "                <div class=\\\"modal-header-title\\\" ng-if=\\\"!customMessage\\\">\n",
    "                    Geographical notes\n",
    "                </div>\n",
    "                <div class=\\\"modal-header-title\\\" ng-if=\\\"customMessage\\\">\n",
    "                    {{customMessage.title}}\n",
    "                </div>\n",
    "                <div class=\\\"modal-header-close\\\" ng-click=\\\"cancel()\\\">&#215</div>\n",
    "            </div>\n",
    "            <div class=\\\"modal-body\\\">\n",
    "                <div ng-if=\\\"!customMessage\\\" class=\\\"geo-notes-text\\\">Places are defined in terms of modern geography.</div>\n",
    "                <div ng-if=\\\"customMessage\\\" class=\\\"geo-notes-text\\\"><p style=\\\"line-height: 34px; padding: 0 20px;\\\">{{customMessage.body}}</p ></div>\n",
    "            </div>\n",
    "        </div>\n",
    "    \n",
    "            \n",
    "                Date:\n",
    "                   1959; Boston, United States \n",
    "            \n",
    "\n",
    "                            \n",
    "            Style:\n",
    "            \n",
    "\n",
    "                            Expressionism\n",
    "            \n",
    "        \n",
    "\n",
    "                    \n",
    "                    \n",
    "                    \n",
    "                    \n",
    "                            \n",
    "            Genre:\n",
    "            \n",
    "\n",
    "                            portrait\n",
    "            \n",
    "        \n",
    "\n",
    "                            \n",
    "            Media:\n",
    "            \n",
    "\n",
    "                            oil\n",
    "            \n",
    "        \n",
    "\n",
    "                    \n",
    "                            \n",
    "                Location:\n",
    "                Museum of Fine Arts (MFA), Boston, MA, US\n",
    "        \n",
    "\n",
    "                            \n",
    "            Dimensions:\n",
    "            112 x 112 cm\n",
    "        \n",
    "\n",
    "\n",
    "                        \n",
    "        Share:\n",
    "        \n",
    "        \n",
    "        \n",
    "        '"
   ]
  },
  {
   "cell_type": "code",
   "execution_count": null,
   "metadata": {},
   "outputs": [],
   "source": []
  }
 ],
 "metadata": {
  "kernelspec": {
   "display_name": "Python 2",
   "language": "python",
   "name": "python2"
  },
  "language_info": {
   "codemirror_mode": {
    "name": "ipython",
    "version": 2
   },
   "file_extension": ".py",
   "mimetype": "text/x-python",
   "name": "python",
   "nbconvert_exporter": "python",
   "pygments_lexer": "ipython2",
   "version": "2.7.12"
  }
 },
 "nbformat": 4,
 "nbformat_minor": 2
}
