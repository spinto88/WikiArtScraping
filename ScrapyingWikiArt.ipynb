{
 "cells": [
  {
   "cell_type": "code",
   "execution_count": 14,
   "metadata": {},
   "outputs": [],
   "source": [
    "import dryscrape\n",
    "import time"
   ]
  },
  {
   "cell_type": "code",
   "execution_count": 15,
   "metadata": {},
   "outputs": [],
   "source": [
    "for letter in 'a': #bcdefghijklmnopqrstuvwxyz':\n",
    "\n",
    "    sess = dryscrape.Session()\n",
    "\n",
    "    url = 'https://www.wikiart.org/en/alphabet/' + letter\n",
    "\n",
    "    sess.visit(url)\n",
    "\n",
    "    time.sleep(2)\n",
    "\n",
    "    for i in range(2):\n",
    "        try:\n",
    "            loadmore_button = sess.xpath(\"//*[@class = 'loadmore-icon']\")[0]\n",
    "            loadmore_button.click()\n",
    "            time.sleep(2)\n",
    "        except:\n",
    "            pass\n",
    "\n",
    "    img_src = sess.xpath(\"//div[@class = 'artist-name']/a[@class = 'ng-binding']\")\n",
    "\n",
    "    links = ['https://www.wikiart.org' + \\\n",
    "             img_src[i].get_attr('href') \\\n",
    "             for i in range(len(img_src))]\n",
    "    \n",
    "    fp = open('links_artists.txt','a')\n",
    "    for link in links:\n",
    "        fp.write(u'{}\\n'.format(link))\n",
    "    fp.close()\n",
    "\n",
    "    sess.reset()"
   ]
  },
  {
   "cell_type": "code",
   "execution_count": 16,
   "metadata": {},
   "outputs": [],
   "source": [
    "links = open('links_artists.txt','r').read().split('\\n')\n",
    "\n",
    "for link in links:\n",
    "\n",
    "    sess = dryscrape.Session()\n",
    "\n",
    "    sess.visit(link + '/all-works/text-list')\n",
    "\n",
    "    img_src = sess.xpath(\"//li[@class = 'painting-list-text-row']/a\")\n",
    "    \n",
    "    links_artw = ['https://www.wikiart.org' + \\\n",
    "             img_src[i].get_attr('href') \\\n",
    "             for i in range(len(img_src))]\n",
    "    \n",
    "    fp = open('links_artworks.txt','a')\n",
    "    for link_art in links_artw:\n",
    "        fp.write(u'{}\\n'.format(link_art))\n",
    "    fp.close()\n",
    "\n",
    "    sess.reset()    "
   ]
  },
  {
   "cell_type": "code",
   "execution_count": 24,
   "metadata": {},
   "outputs": [],
   "source": [
    "def imagedownload(img_page):\n",
    "    \n",
    "    import dryscrape\n",
    "    import shutil\n",
    "    import requests\n",
    "\n",
    "    #try:\n",
    "    sess = dryscrape.Session()\n",
    "    sess.visit(img_page)\n",
    "    \n",
    "    a = sess.xpath('//*[@class = \"ms-zoom-cursor\"]')[0]    \n",
    "   \n",
    "    img_src = a['src']\n",
    "    img_title = a['title']\n",
    "\n",
    "    response = requests.get(img_src, stream=True)\n",
    "    with open(u'{}.jpg'.format(img_title), 'wb') as out_file:\n",
    "            shutil.copyfileobj(response.raw, out_file)\n",
    "    del response\n",
    "        \n",
    "    date = sess.xpath('//span[@itemprop = \"dateCreated\"]')[0].extract()\n",
    "    print date\n",
    "    \n",
    "    sess.reset()\n",
    "    \n",
    "#    except:\n",
    "#        pass\n",
    "    \n",
    "    return None"
   ]
  },
  {
   "cell_type": "code",
   "execution_count": 25,
   "metadata": {},
   "outputs": [
    {
     "ename": "AttributeError",
     "evalue": "'Node' object has no attribute 'extract'",
     "output_type": "error",
     "traceback": [
      "\u001b[0;31m---------------------------------------------------------------------------\u001b[0m",
      "\u001b[0;31mAttributeError\u001b[0m                            Traceback (most recent call last)",
      "\u001b[0;32m<ipython-input-25-51f373817dfc>\u001b[0m in \u001b[0;36m<module>\u001b[0;34m()\u001b[0m\n\u001b[1;32m      2\u001b[0m \u001b[0;34m\u001b[0m\u001b[0m\n\u001b[1;32m      3\u001b[0m \u001b[0;32mfor\u001b[0m \u001b[0mlink\u001b[0m \u001b[0;32min\u001b[0m \u001b[0mlinks\u001b[0m\u001b[0;34m:\u001b[0m\u001b[0;34m\u001b[0m\u001b[0m\n\u001b[0;32m----> 4\u001b[0;31m     \u001b[0mimagedownload\u001b[0m\u001b[0;34m(\u001b[0m\u001b[0mlink\u001b[0m\u001b[0;34m)\u001b[0m\u001b[0;34m\u001b[0m\u001b[0m\n\u001b[0m\u001b[1;32m      5\u001b[0m     \u001b[0;32mbreak\u001b[0m\u001b[0;34m\u001b[0m\u001b[0m\n",
      "\u001b[0;32m<ipython-input-24-5c3a43d1526f>\u001b[0m in \u001b[0;36mimagedownload\u001b[0;34m(img_page)\u001b[0m\n\u001b[1;32m     19\u001b[0m     \u001b[0;32mdel\u001b[0m \u001b[0mresponse\u001b[0m\u001b[0;34m\u001b[0m\u001b[0m\n\u001b[1;32m     20\u001b[0m \u001b[0;34m\u001b[0m\u001b[0m\n\u001b[0;32m---> 21\u001b[0;31m     \u001b[0mdate\u001b[0m \u001b[0;34m=\u001b[0m \u001b[0msess\u001b[0m\u001b[0;34m.\u001b[0m\u001b[0mxpath\u001b[0m\u001b[0;34m(\u001b[0m\u001b[0;34m'//span[@itemprop = \"dateCreated\"]'\u001b[0m\u001b[0;34m)\u001b[0m\u001b[0;34m[\u001b[0m\u001b[0;36m0\u001b[0m\u001b[0;34m]\u001b[0m\u001b[0;34m.\u001b[0m\u001b[0mextract\u001b[0m\u001b[0;34m(\u001b[0m\u001b[0;34m)\u001b[0m\u001b[0;34m\u001b[0m\u001b[0m\n\u001b[0m\u001b[1;32m     22\u001b[0m     \u001b[0;32mprint\u001b[0m \u001b[0mdate\u001b[0m\u001b[0;34m\u001b[0m\u001b[0m\n\u001b[1;32m     23\u001b[0m \u001b[0;34m\u001b[0m\u001b[0m\n",
      "\u001b[0;31mAttributeError\u001b[0m: 'Node' object has no attribute 'extract'"
     ]
    }
   ],
   "source": [
    "links = open('links_artworks.txt','r').read().split('\\n')\n",
    "\n",
    "for link in links:\n",
    "    imagedownload(link)\n",
    "    break"
   ]
  },
  {
   "cell_type": "code",
   "execution_count": null,
   "metadata": {},
   "outputs": [],
   "source": []
  }
 ],
 "metadata": {
  "kernelspec": {
   "display_name": "Python 2",
   "language": "python",
   "name": "python2"
  },
  "language_info": {
   "codemirror_mode": {
    "name": "ipython",
    "version": 2
   },
   "file_extension": ".py",
   "mimetype": "text/x-python",
   "name": "python",
   "nbconvert_exporter": "python",
   "pygments_lexer": "ipython2",
   "version": "2.7.12"
  }
 },
 "nbformat": 4,
 "nbformat_minor": 2
}
