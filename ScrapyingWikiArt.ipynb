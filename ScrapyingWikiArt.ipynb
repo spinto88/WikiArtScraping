{
 "cells": [
  {
   "cell_type": "code",
   "execution_count": 5,
   "metadata": {},
   "outputs": [],
   "source": [
    "import dryscrape\n",
    "import time"
   ]
  },
  {
   "cell_type": "code",
   "execution_count": 6,
   "metadata": {},
   "outputs": [],
   "source": [
    "for letter in 'a': #bcdefghijklmnopqrstuvwxyz':\n",
    "\n",
    "    sess = dryscrape.Session()\n",
    "\n",
    "    url = 'https://www.wikiart.org/en/alphabet/' + letter\n",
    "\n",
    "    sess.visit(url)\n",
    "\n",
    "    time.sleep(2)\n",
    "\n",
    "    for i in range(1):\n",
    "        try:\n",
    "            loadmore_button = sess.xpath(\"//*[@class = 'loadmore-icon']\")[0]\n",
    "            loadmore_button.click()\n",
    "            time.sleep(2)\n",
    "        except:\n",
    "            pass\n",
    "\n",
    "    img_src = sess.xpath(\"//div[@class = 'artist-name']/a[@class = 'ng-binding']\")\n",
    "\n",
    "    links = ['https://www.wikiart.org' + \\\n",
    "             img_src[i].get_attr('href') \\\n",
    "             for i in range(len(img_src))]\n",
    "    \n",
    "    fp = open('links_artists.txt','a')\n",
    "    for link in links:\n",
    "        fp.write(u'{}\\n'.format(link))\n",
    "    fp.close()\n",
    "\n",
    "    sess.reset()"
   ]
  },
  {
   "cell_type": "code",
   "execution_count": 13,
   "metadata": {},
   "outputs": [],
   "source": [
    "links = open('links_artists.txt','r').read().split('\\n')\n",
    "links = list(set(links))\n",
    "\n",
    "for link in links[:1]:\n",
    "\n",
    "    sess = dryscrape.Session()\n",
    "\n",
    "    sess.visit(link + '/all-works/text-list')\n",
    "\n",
    "    img_src = sess.xpath(\"//li[@class = 'painting-list-text-row']/a\")\n",
    "    \n",
    "    links_artw = ['https://www.wikiart.org' + \\\n",
    "             img_src[i].get_attr('href') \\\n",
    "             for i in range(len(img_src))]\n",
    "    \n",
    "    fp = open('links_artworks.txt','a')\n",
    "    for link_art in links_artw:\n",
    "        fp.write(u'{}\\n'.format(link_art))\n",
    "    fp.close()\n",
    "\n",
    "    sess.reset()    "
   ]
  },
  {
   "cell_type": "code",
   "execution_count": 16,
   "metadata": {},
   "outputs": [],
   "source": [
    "def imagedownload(img_page):\n",
    "    \n",
    "    import dryscrape\n",
    "    import shutil\n",
    "    import requests\n",
    "\n",
    "    sess = dryscrape.Session()\n",
    "    sess.visit(img_page)\n",
    "    \n",
    "    a = sess.xpath('//*[@class = \"ms-zoom-cursor\"]')[0]    \n",
    "   \n",
    "    img_src = a['src']\n",
    "    img_title = a['title']\n",
    "\n",
    "    response = requests.get(img_src, stream=True)\n",
    "    img_file = u'{}.jpg'.format(img_title)\n",
    "    with open(img_file, 'wb') as out_file:\n",
    "            shutil.copyfileobj(response.raw, out_file)\n",
    "    del response\n",
    "        \n",
    "    # Artwork Metadata\n",
    "    aux = sess.xpath('//article')[0]\n",
    "    info = aux.text().split('\\n')\n",
    "\n",
    "    artw_info = {}\n",
    "    artw_info['artwork name'] = info[0]\n",
    "    artw_info['author'] = info[1]\n",
    "    artw_info['image_file'] = img_file\n",
    "    artw_info['url'] = img_page\n",
    "    \n",
    "    try:\n",
    "        artw_info['date'] = filter(lambda x: 'Date' in x, info)[0].split(': ')[1]\n",
    "    except:\n",
    "        artw_info['date'] = None\n",
    "    try:\n",
    "        artw_info['style'] = filter(lambda x: 'Style' in x, info)[0].split(': ')[1]\n",
    "    except:\n",
    "        artw_info['style'] = None\n",
    "    try:\n",
    "        artw_info['genre'] = filter(lambda x: 'Genre' in x, info)[0].split(': ')[1]\n",
    "    except:\n",
    "        artw_info['genre'] = None\n",
    "    try:\n",
    "        artw_info['media'] = filter(lambda x: 'Media' in x, info)[0].split(': ')[1]\n",
    "    except:\n",
    "        artw_info['media'] = None\n",
    "    try:\n",
    "        artw_info['dimensions'] = filter(lambda x: 'Dimensions:' in x, info)[0].split(': ')[1]\n",
    "    except:\n",
    "        artw_info['dimensions'] = None\n",
    "\n",
    "    sess.reset()\n",
    "    \n",
    "    return artw_info"
   ]
  },
  {
   "cell_type": "code",
   "execution_count": 18,
   "metadata": {},
   "outputs": [],
   "source": [
    "links = open('links_artworks.txt','r').read().split('\\n')\n",
    "links = list(set(links))\n",
    "\n",
    "for link in links:\n",
    "    a = imagedownload(link)\n",
    "    break"
   ]
  },
  {
   "cell_type": "code",
   "execution_count": 20,
   "metadata": {},
   "outputs": [],
   "source": [
    "import json"
   ]
  },
  {
   "cell_type": "code",
   "execution_count": 21,
   "metadata": {},
   "outputs": [
    {
     "data": {
      "text/plain": [
       "'{\"style\": null, \"dimensions\": null, \"author\": \"Ansel Adams\", \"url\": \"https://www.wikiart.org/en/ansel-adams/onyx-drapes-in-the-papoose-room-carlsbad-caverns-1942\", \"media\": null, \"genre\": \"photo\", \"date\": \"1942\", \"image_file\": \"Onyx drapes in the Papoose Room, Carlsbad Caverns, 1942 - Ansel Adams.jpg\", \"artwork name\": \"Onyx drapes in the Papoose Room, Carlsbad Caverns\"}'"
      ]
     },
     "execution_count": 21,
     "metadata": {},
     "output_type": "execute_result"
    }
   ],
   "source": [
    "json.dumps(a, ensure_ascii=True)"
   ]
  },
  {
   "cell_type": "code",
   "execution_count": null,
   "metadata": {},
   "outputs": [],
   "source": []
  }
 ],
 "metadata": {
  "kernelspec": {
   "display_name": "Python 2",
   "language": "python",
   "name": "python2"
  },
  "language_info": {
   "codemirror_mode": {
    "name": "ipython",
    "version": 2
   },
   "file_extension": ".py",
   "mimetype": "text/x-python",
   "name": "python",
   "nbconvert_exporter": "python",
   "pygments_lexer": "ipython2",
   "version": "2.7.12"
  }
 },
 "nbformat": 4,
 "nbformat_minor": 2
}
